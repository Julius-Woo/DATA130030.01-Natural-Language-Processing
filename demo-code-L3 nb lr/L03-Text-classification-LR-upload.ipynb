{
 "cells": [
  {
   "cell_type": "code",
   "execution_count": null,
   "id": "1bfc1154-a41f-40b1-8dc0-9d04b3b70409",
   "metadata": {},
   "outputs": [],
   "source": [
    "import re\n",
    "import pickle\n",
    "import numpy as np\n",
    "import pandas as pd\n",
    "from sklearn.feature_extraction.text import CountVectorizer\n",
    "from sklearn.pipeline import Pipeline\n",
    "from sklearn.linear_model import LogisticRegressionCV\n",
    "from sklearn.feature_extraction.text import TfidfVectorizer\n",
    "from sklearn.metrics import accuracy_score, classification_report, confusion_matrix"
   ]
  },
  {
   "cell_type": "code",
   "execution_count": null,
   "id": "6a3a6983-56e4-4fe0-8bcf-bf9db6e956f5",
   "metadata": {},
   "outputs": [],
   "source": [
    "df = pd.read_csv('datasets/IMDB-Dataset.csv')\n",
    "df.head(5)"
   ]
  },
  {
   "cell_type": "code",
   "execution_count": null,
   "id": "0333ed8b-566c-476e-a754-384fa5e705ae",
   "metadata": {},
   "outputs": [],
   "source": [
    "def preprocessor(text):\n",
    "    text = re.sub('<[^>]*>', '', text)\n",
    "    emoticons = re.findall('(?::|;|=)(?:-)?(?:\\)|\\(|D|P)', text)\n",
    "    text = re.sub('[\\W]+', ' ', text.lower()) +\\\n",
    "        ' '.join(emoticons).replace('-', '')\n",
    "    return text\n",
    "\n",
    "df['review'] = df['review'].apply(preprocessor)\n",
    "df.head(5)"
   ]
  },
  {
   "cell_type": "code",
   "execution_count": null,
   "id": "94f25f4e-350f-4372-8b33-b2930fba6760",
   "metadata": {},
   "outputs": [],
   "source": [
    "# prepare some training and testing samples\n",
    "\n",
    "num_samples = len(df['review'])\n",
    "num_train = int(num_samples * 0.7)\n",
    "num_test = int(num_samples * 0.3)\n",
    "random_indices = np.random.permutation(num_samples)"
   ]
  },
  {
   "cell_type": "code",
   "execution_count": null,
   "id": "3c7c5b32-f101-430c-b8ae-fab838cd8aa5",
   "metadata": {},
   "outputs": [],
   "source": [
    "# traing and testing datasets\n",
    "\n",
    "X_train = df.loc[random_indices[:num_train], 'review'].values\n",
    "y_train = df.loc[random_indices[:num_train], 'sentiment'].values\n",
    "X_test = df.loc[random_indices[-num_test:], 'review'].values\n",
    "y_test = df.loc[random_indices[-num_test:], 'sentiment'].values"
   ]
  },
  {
   "cell_type": "code",
   "execution_count": null,
   "id": "4abeee5d-f20b-4a9e-bec9-d26111cc27d8",
   "metadata": {},
   "outputs": [],
   "source": [
    "print(\"X_train : \",X_train.shape,\" X_test : \",X_test.shape,\"\\ny_train : \",y_train.shape,\" y_test : \",y_test.shape)"
   ]
  },
  {
   "cell_type": "code",
   "execution_count": null,
   "id": "c0fd5981-308f-40e2-a5aa-7f374f2f543a",
   "metadata": {},
   "outputs": [],
   "source": [
    "# TF-IDF matrix to feed into LR model\n",
    "\n",
    "tfidf = TfidfVectorizer()\n",
    "classifier = LogisticRegressionCV(max_iter = 10)\n",
    "clf = Pipeline([('tfidf',tfidf), ('clf',classifier)])\n",
    "clf.fit(X_train, y_train)"
   ]
  },
  {
   "cell_type": "code",
   "execution_count": null,
   "id": "cb6bd8f2-4ec9-49cf-874a-d82fc14836e3",
   "metadata": {},
   "outputs": [],
   "source": [
    "# make prediction on testing datasets\n",
    "\n",
    "y_pred = clf.predict(X_test)"
   ]
  },
  {
   "cell_type": "code",
   "execution_count": null,
   "id": "adb01b9d-fe96-48b7-95e6-baf156d6fd57",
   "metadata": {},
   "outputs": [],
   "source": [
    "# print out the confusion matrix\n",
    "confusion_matrix(y_test, y_pred)"
   ]
  },
  {
   "cell_type": "code",
   "execution_count": null,
   "id": "fdf0ced1-c207-4704-b8c5-756aac8bb13e",
   "metadata": {},
   "outputs": [],
   "source": [
    "# print out classification details\n",
    "\n",
    "print(classification_report(y_test, y_pred))"
   ]
  },
  {
   "cell_type": "code",
   "execution_count": null,
   "id": "2feacb80-a5a0-47e6-8466-a46ab35b0a04",
   "metadata": {},
   "outputs": [],
   "source": [
    "# overall accuracy on IMDB datasets\n",
    "\n",
    "accuracy_score(y_test, y_pred)"
   ]
  },
  {
   "cell_type": "code",
   "execution_count": null,
   "id": "ae7be676-d99f-4f17-a5f3-81635eaadd09",
   "metadata": {},
   "outputs": [],
   "source": []
  }
 ],
 "metadata": {
  "kernelspec": {
   "display_name": "Python 3 (ipykernel)",
   "language": "python",
   "name": "python3"
  },
  "language_info": {
   "codemirror_mode": {
    "name": "ipython",
    "version": 3
   },
   "file_extension": ".py",
   "mimetype": "text/x-python",
   "name": "python",
   "nbconvert_exporter": "python",
   "pygments_lexer": "ipython3",
   "version": "3.10.13"
  }
 },
 "nbformat": 4,
 "nbformat_minor": 5
}
