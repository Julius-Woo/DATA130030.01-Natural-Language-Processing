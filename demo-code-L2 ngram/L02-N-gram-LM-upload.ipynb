{
 "cells": [
  {
   "cell_type": "markdown",
   "metadata": {},
   "source": [
    "<h1 style=\"text-align: center;\">3 N-gram Language Models</h1>\n",
    "\n",
    "> In this notebook, we illustrate some basic ideas of N-gram and LM evaluation by using the perplexity.\n"
   ]
  },
  {
   "cell_type": "code",
   "execution_count": 1,
   "metadata": {},
   "outputs": [
    {
     "data": {
      "text/html": [
       "\n",
       "<style>\n",
       ".output_png {\n",
       "    display: table-cell;\n",
       "    text-align: center;\n",
       "    vertical-align: middle;\n",
       "}\n",
       "</style>\n"
      ],
      "text/plain": [
       "<IPython.core.display.HTML object>"
      ]
     },
     "execution_count": 1,
     "metadata": {},
     "output_type": "execute_result"
    }
   ],
   "source": [
    "import re\n",
    "import io\n",
    "import math\n",
    "import nltk\n",
    "import pprint\n",
    "import random\n",
    "import numpy as np\n",
    "from itertools import product\n",
    "from nltk.util import ngrams\n",
    "from nltk.lm import NgramCounter\n",
    "from nltk import word_tokenize\n",
    "from nltk.probability import FreqDist\n",
    "from nltk.tokenize import word_tokenize\n",
    "from nltk.tokenize import sent_tokenize\n",
    "\n",
    "\n",
    "# make plots in center\n",
    "from IPython.core.display import HTML\n",
    "HTML(\"\"\"\n",
    "<style>\n",
    ".output_png {\n",
    "    display: table-cell;\n",
    "    text-align: center;\n",
    "    vertical-align: middle;\n",
    "}\n",
    "</style>\n",
    "\"\"\")"
   ]
  },
  {
   "cell_type": "markdown",
   "metadata": {},
   "source": [
    "<h2 style=\"text-align: center;\">3.1 $N$-Grams</h2>"
   ]
  },
  {
   "cell_type": "markdown",
   "metadata": {},
   "source": [
    "### Example text:"
   ]
  },
  {
   "cell_type": "code",
   "execution_count": 2,
   "metadata": {},
   "outputs": [
    {
     "name": "stdout",
     "output_type": "stream",
     "text": [
      "\n",
      "<s> I am Sam </s>\n",
      "<s> Sam I am </s>\n",
      "<s> I do not like green eggs and ham </s>\n",
      "\n"
     ]
    }
   ],
   "source": [
    "raw_text1 = \\\n",
    "\"\"\"\n",
    "<s> I am Sam </s>\n",
    "<s> Sam I am </s>\n",
    "<s> I do not like green eggs and ham </s>\n",
    "\"\"\"\n",
    "print(raw_text1)"
   ]
  },
  {
   "cell_type": "markdown",
   "metadata": {},
   "source": [
    "### Tokenize the raw text:\n",
    "\n",
    "We tokenize it as a list of words by whitespace, you may use tokens = word_tokenize(text)"
   ]
  },
  {
   "cell_type": "code",
   "execution_count": 3,
   "metadata": {},
   "outputs": [
    {
     "name": "stdout",
     "output_type": "stream",
     "text": [
      "All sentences:\n",
      "<s> I am Sam </s>\n",
      "<s> Sam I am </s>\n",
      "<s> I do not like green eggs and ham </s>\n",
      "---\n",
      "All unigram tokens:\n",
      "['<s>', 'I', 'am', 'Sam', '</s>', '<s>', 'Sam', 'I', 'am', '</s>', '<s>', 'I', 'do', 'not', 'like', 'green', 'eggs', 'and', 'ham', '</s>']\n",
      "---\n",
      "set of vocabulary: \n",
      "{'ham', 'green', 'and', 'Sam', 'am', 'not', 'do', 'eggs', 'like', 'I', '<s>', '</s>'}\n",
      "12 words in total.\n",
      "---\n"
     ]
    }
   ],
   "source": [
    "sentences = raw_text1.strip().split('\\n')\n",
    "print(f'All sentences:')\n",
    "for sent in sentences:\n",
    "    print(sent)\n",
    "print('---')\n",
    "tokens = raw_text1.replace(\"\\n\", \" \").split()\n",
    "print(f'All unigram tokens:\\n{tokens}\\n---')\n",
    "vocab = set(tokens)\n",
    "print(f'set of vocabulary: \\n{vocab}')\n",
    "print(f'{len(vocab)} words in total.')\n",
    "print('---')"
   ]
  },
  {
   "cell_type": "markdown",
   "metadata": {},
   "source": [
    "### Get bigrams and the counts of these bigrams"
   ]
  },
  {
   "cell_type": "code",
   "execution_count": 6,
   "metadata": {},
   "outputs": [
    {
     "name": "stdout",
     "output_type": "stream",
     "text": [
      "All unigrams:\n",
      " [('<s>',), ('I',), ('am',), ('Sam',), ('</s>',), ('<s>',), ('Sam',), ('I',), ('am',), ('</s>',), ('<s>',), ('I',), ('do',), ('not',), ('like',), ('green',), ('eggs',), ('and',), ('ham',), ('</s>',)]\n",
      "All bigrams:\n",
      " [('<s>', 'I'), ('I', 'am'), ('am', 'Sam'), ('Sam', '</s>'), ('<s>', 'Sam'), ('Sam', 'I'), ('I', 'am'), ('am', '</s>'), ('<s>', 'I'), ('I', 'do'), ('do', 'not'), ('not', 'like'), ('like', 'green'), ('green', 'eggs'), ('eggs', 'and'), ('and', 'ham'), ('ham', '</s>')]\n"
     ]
    }
   ],
   "source": [
    "unigrams_list = [unigram for sent in sentences \n",
    "           for unigram in nltk.ngrams(sent.split(),n=1)]\n",
    "bigrams_list = [bigram for sent in sentences \n",
    "           for bigram in nltk.bigrams(sent.split())]\n",
    "print('All unigrams:\\n', unigrams_list)\n",
    "print('All bigrams:\\n', bigrams_list)"
   ]
  },
  {
   "cell_type": "code",
   "execution_count": 9,
   "metadata": {},
   "outputs": [
    {
     "name": "stdout",
     "output_type": "stream",
     "text": [
      "gram: ('<s>',) 3\n",
      "gram: ('I',) 3\n",
      "gram: ('am',) 2\n",
      "gram: ('Sam',) 2\n",
      "gram: ('</s>',) 3\n",
      "gram: ('do',) 1\n",
      "gram: ('not',) 1\n",
      "gram: ('like',) 1\n",
      "gram: ('green',) 1\n",
      "gram: ('eggs',) 1\n",
      "gram: ('and',) 1\n",
      "gram: ('ham',) 1\n",
      "gram: ('<s>', 'I') 2 , bigram prob.: 0.666667\n",
      "gram: ('I', 'am') 2 , bigram prob.: 0.666667\n",
      "gram: ('am', 'Sam') 1 , bigram prob.: 0.500000\n",
      "gram: ('Sam', '</s>') 1 , bigram prob.: 0.500000\n",
      "gram: ('<s>', 'Sam') 1 , bigram prob.: 0.333333\n",
      "gram: ('Sam', 'I') 1 , bigram prob.: 0.500000\n",
      "gram: ('am', '</s>') 1 , bigram prob.: 0.500000\n",
      "gram: ('I', 'do') 1 , bigram prob.: 0.333333\n",
      "gram: ('do', 'not') 1 , bigram prob.: 1.000000\n",
      "gram: ('not', 'like') 1 , bigram prob.: 1.000000\n",
      "gram: ('like', 'green') 1 , bigram prob.: 1.000000\n",
      "gram: ('green', 'eggs') 1 , bigram prob.: 1.000000\n",
      "gram: ('eggs', 'and') 1 , bigram prob.: 1.000000\n",
      "gram: ('and', 'ham') 1 , bigram prob.: 1.000000\n",
      "gram: ('ham', '</s>') 1 , bigram prob.: 1.000000\n",
      "the following bigrams have zero probability: \n",
      "('I', 'I')  ('I', 'and')  ('I', 'green')  ('I', 'eggs')  ('I', 'not')  ('I', 'Sam')  ('I', '</s>')  ('I', '<s>')  ('I', 'like')  ('I', 'ham')  ('and', 'I')  ('and', 'and')  ('and', 'am')  ('and', 'green')  ('and', 'eggs')  ('and', 'not')  ('and', 'Sam')  ('and', '</s>')  ('and', '<s>')  ('and', 'like')  ('and', 'do')  ('am', 'I')  ('am', 'and')  ('am', 'am')  ('am', 'green')  ('am', 'eggs')  ('am', 'not')  ('am', '<s>')  ('am', 'like')  ('am', 'ham')  ('am', 'do')  ('green', 'I')  ('green', 'and')  ('green', 'am')  ('green', 'green')  ('green', 'not')  ('green', 'Sam')  ('green', '</s>')  ('green', '<s>')  ('green', 'like')  ('green', 'ham')  ('green', 'do')  ('eggs', 'I')  ('eggs', 'am')  ('eggs', 'green')  ('eggs', 'eggs')  ('eggs', 'not')  ('eggs', 'Sam')  ('eggs', '</s>')  ('eggs', '<s>')  ('eggs', 'like')  ('eggs', 'ham')  ('eggs', 'do')  ('not', 'I')  ('not', 'and')  ('not', 'am')  ('not', 'green')  ('not', 'eggs')  ('not', 'not')  ('not', 'Sam')  ('not', '</s>')  ('not', '<s>')  ('not', 'ham')  ('not', 'do')  ('Sam', 'and')  ('Sam', 'am')  ('Sam', 'green')  ('Sam', 'eggs')  ('Sam', 'not')  ('Sam', 'Sam')  ('Sam', '<s>')  ('Sam', 'like')  ('Sam', 'ham')  ('Sam', 'do')  ('</s>', 'I')  ('</s>', 'and')  ('</s>', 'am')  ('</s>', 'green')  ('</s>', 'eggs')  ('</s>', 'not')  ('</s>', 'Sam')  ('</s>', '</s>')  ('</s>', '<s>')  ('</s>', 'like')  ('</s>', 'ham')  ('</s>', 'do')  ('<s>', 'and')  ('<s>', 'am')  ('<s>', 'green')  ('<s>', 'eggs')  ('<s>', 'not')  ('<s>', '</s>')  ('<s>', '<s>')  ('<s>', 'like')  ('<s>', 'ham')  ('<s>', 'do')  ('like', 'I')  ('like', 'and')  ('like', 'am')  ('like', 'eggs')  ('like', 'not')  ('like', 'Sam')  ('like', '</s>')  ('like', '<s>')  ('like', 'like')  ('like', 'ham')  ('like', 'do')  ('ham', 'I')  ('ham', 'and')  ('ham', 'am')  ('ham', 'green')  ('ham', 'eggs')  ('ham', 'not')  ('ham', 'Sam')  ('ham', '<s>')  ('ham', 'like')  ('ham', 'ham')  ('ham', 'do')  ('do', 'I')  ('do', 'and')  ('do', 'am')  ('do', 'green')  ('do', 'eggs')  ('do', 'Sam')  ('do', '</s>')  ('do', '<s>')  ('do', 'like')  ('do', 'ham')  ('do', 'do')  \n",
      "There is 129 zero-prob bigrams in total!\n"
     ]
    }
   ],
   "source": [
    "# FreqDist can help to get counts\n",
    "freq_dist = FreqDist(unigrams_list + bigrams_list)\n",
    "for gram, freq in freq_dist.items():\n",
    "    if len(gram) == 2:\n",
    "        print(f'gram: {gram}', freq, f', bigram prob.: {freq / freq_dist[(gram[0],)]:.6f}')\n",
    "    else:\n",
    "        print(f'gram: {gram}', freq)\n",
    "\n",
    "# most of the bigrams have zero probabilities.\n",
    "print(f'the following bigrams have zero probability: ')\n",
    "zeros = 0\n",
    "for v1, v2 in product(vocab, vocab):\n",
    "    if (v1, v2) not in freq_dist:\n",
    "        zeros += 1\n",
    "        print(f'{(v1, v2)} ', end=' ')\n",
    "\n",
    "print(f'\\nThere is {zeros} zero-prob bigrams in total!')"
   ]
  },
  {
   "cell_type": "code",
   "execution_count": 10,
   "metadata": {},
   "outputs": [
    {
     "data": {
      "image/png": "[encoded data removed]",
      "text/plain": [
       "<Figure size 640x480 with 1 Axes>"
      ]
     },
     "metadata": {},
     "output_type": "display_data"
    },
    {
     "data": {
      "text/plain": [
       "<Axes: xlabel='Samples', ylabel='Counts'>"
      ]
     },
     "execution_count": 10,
     "metadata": {},
     "output_type": "execute_result"
    }
   ],
   "source": [
    "# draw the frequency distribution\n",
    "freq_dist.plot()"
   ]
  },
  {
   "cell_type": "markdown",
   "metadata": {},
   "source": [
    "<h2 style=\"text-align: center;\">3.2 Building and evaluating LMs</h2>"
   ]
  },
  {
   "cell_type": "markdown",
   "metadata": {},
   "source": [
    "### Load all books written by Jane Austen and split it as train and test dataset\n",
    "\n",
    "> The main part of section follows from [Joshua Floehr's code](https://github.com/joshualoehr/ngram-language-model)."
   ]
  },
  {
   "cell_type": "code",
   "execution_count": 11,
   "metadata": {},
   "outputs": [
    {
     "name": "stdout",
     "output_type": "stream",
     "text": [
      "The Project Gutenberg eBook of The Complete Project Gutenberg Works of Jane Austen      This ebook is for the use of anyone anywhere in the United States and most other parts of the world at no cost  rg™, including how to make donations to the Project Gutenberg Literary Archive Foundation, how to help produce our new eBooks, and how to subscribe to our email newsletter to hear about new eBooks.   \n"
     ]
    }
   ],
   "source": [
    "with open('datasets/dataset_jane-austen_all.txt', 'r') as file:\n",
    "    raw_text_jane = file.read()\n",
    "raw_text_jane = raw_text_jane.replace(\"\\n\", \" \")\n",
    "print(raw_text_jane[:200], raw_text_jane[-200:])"
   ]
  },
  {
   "cell_type": "code",
   "execution_count": 12,
   "metadata": {},
   "outputs": [],
   "source": [
    "def raw_text_preprocess(raw_text, n):\n",
    "    sentences = sent_tokenize(raw_text)\n",
    "    sos = \"<s> \" * (n-1) if n > 1 else \"<s> \"\n",
    "    tokenized_sentences = ['{}{} {}'.format(sos, sent, \"</s>\").split() for sent in sentences]\n",
    "    n = len(tokenized_sentences)\n",
    "    tr_ind = np.random.permutation(n)[:n-1000]\n",
    "    tr_sentences = [tokenized_sentences[_] for _ in tr_ind]\n",
    "    te_ind = np.random.permutation(n)[n-1000:]\n",
    "    te_sentences = [tokenized_sentences[_] for _ in te_ind]\n",
    "    tr_tokens = [token for sublist in tr_sentences for token in sublist]\n",
    "    te_tokens = [token for sublist in te_sentences for token in sublist]\n",
    "    # Replace tokens which appear only once in the corpus with <UNK>\n",
    "    vocab = nltk.FreqDist(tr_tokens)\n",
    "    tr_tokens = [token if vocab[token] > 1 else \"<UNK>\" for token in tr_tokens]\n",
    "    return tr_tokens, te_tokens, tr_sentences, te_sentences"
   ]
  },
  {
   "cell_type": "code",
   "execution_count": 13,
   "metadata": {},
   "outputs": [],
   "source": [
    "class LanguageModel(object):\n",
    "    \"\"\" Follow: https://github.com/joshualoehr/ngram-language-model \"\"\"\n",
    "\n",
    "    def __init__(self, tr_tokens, n, laplace=1):\n",
    "        self.n = n\n",
    "        self.laplace = laplace\n",
    "        self.tokens = tr_tokens\n",
    "        self.vocab  = nltk.FreqDist(self.tokens)\n",
    "        self.model  = self._create_model()\n",
    "        self.masks  = list(reversed(list(product((0,1), repeat=n))))\n",
    "        self.special_words = ['<s>', '</s>', '<UNK>']\n",
    "\n",
    "    def _smooth(self):\n",
    "        \"\"\" Apply Laplace smoothing to N-gram frequency distribution. \"\"\"\n",
    "        vocab_size = len(self.vocab)\n",
    "\n",
    "        n_grams = nltk.ngrams(self.tokens, self.n)\n",
    "        n_vocab = nltk.FreqDist(n_grams)\n",
    "\n",
    "        m_grams = nltk.ngrams(self.tokens, self.n-1)\n",
    "        m_vocab = nltk.FreqDist(m_grams)\n",
    "\n",
    "        def smoothed_count(n_gram, n_count):\n",
    "            m_gram = n_gram[:-1]\n",
    "            m_count = m_vocab[m_gram]\n",
    "            return (n_count + self.laplace) / (m_count + self.laplace * vocab_size)\n",
    "\n",
    "        return { n_gram: smoothed_count(n_gram, count) for n_gram, count in n_vocab.items() }\n",
    "\n",
    "    def _create_model(self):\n",
    "        \"\"\"Create a probability distribution for the vocabulary of the training corpus.\n",
    "        If building a unigram model, the probabilities are simple relative frequencies\n",
    "        of each token with the entire corpus.\n",
    "        Otherwise, the probabilities are Laplace-smoothed relative frequencies.\n",
    "        \"\"\"\n",
    "        if self.n == 1:\n",
    "            num_tokens = len(self.tokens)\n",
    "            return { (unigram,): count / num_tokens for unigram, count in self.vocab.items() }\n",
    "        else:\n",
    "            return self._smooth()\n",
    "\n",
    "    def _convert_oov(self, ngram):\n",
    "        \"\"\"Convert, if necessary, a given n-gram to one which is known by the model.\n",
    "        Starting with the unmodified ngram, check each possible permutation of the n-gram\n",
    "        with each index of the n-gram containing either the original token or <UNK>. Stop\n",
    "        when the model contains an entry for that permutation.\n",
    "        This is achieved by creating a 'bitmask' for the n-gram tuple, and swapping out\n",
    "        each flagged token for <UNK>. Thus, in the worst case, this function checks 2^n\n",
    "        possible n-grams before returning.\n",
    "\n",
    "        Returns:\n",
    "            The n-gram with <UNK> tokens in certain positions such that the model\n",
    "            contains an entry for it.\n",
    "\n",
    "        \"\"\"\n",
    "        mask = lambda ngram, bitmask: tuple((token if flag == 1 else \"<UNK>\" for token,flag in zip(ngram, bitmask)))\n",
    "\n",
    "        ngram = (ngram,) if type(ngram) is str else ngram\n",
    "        for possible_known in [mask(ngram, bitmask) for bitmask in self.masks]:\n",
    "            if possible_known in self.model:\n",
    "                return possible_known\n",
    "\n",
    "    def perplexity(self, te_tokens):\n",
    "        \"\"\"Calculate the perplexity of the model against a given test corpus.\n",
    "        Args:\n",
    "            test_data (list of str): sentences comprising the testing corpus.\n",
    "        Returns:\n",
    "            The perplexity of the model as a float.\n",
    "        \n",
    "        \"\"\"\n",
    "        test_ngrams = nltk.ngrams(te_tokens, self.n)\n",
    "        N = len(te_tokens)\n",
    "        known_ngrams  = (self._convert_oov(ngram) for ngram in test_ngrams)\n",
    "        probabilities = [self.model[ngram] for ngram in known_ngrams]\n",
    "\n",
    "        return math.exp((-1/N) * sum(map(math.log, probabilities)))\n",
    "\n",
    "    def _best_candidate(self, prev, i, without=[]):\n",
    "        \"\"\"Choose the most likely next token given the previous (n-1) tokens.\n",
    "        If selecting the first word of the sentence (after the SOS tokens),\n",
    "        the i'th best candidate will be selected, to create variety.\n",
    "        If no candidates are found, the EOS token is returned with probability 1.\n",
    "        Args:\n",
    "            prev (tuple of str): the previous n-1 tokens of the sentence.\n",
    "            i (int): which candidate to select if not the most probable one.\n",
    "            without (list of str): tokens to exclude from the candidates list.\n",
    "        Returns:\n",
    "            A tuple with the next most probable token and its corresponding probability.\n",
    "\n",
    "        \"\"\"\n",
    "        blacklist  = [\"<UNK>\"] + without\n",
    "        candidates = ((ngram[-1],prob) for ngram,prob in self.model.items() if ngram[:-1]==prev)\n",
    "        candidates = filter(lambda candidate: candidate[0] not in blacklist, candidates)\n",
    "        candidates = sorted(candidates, key=lambda candidate: candidate[1], reverse=True)\n",
    "        if len(candidates) == 0:\n",
    "            return (\"</s>\", 1)\n",
    "        else:\n",
    "            return candidates[0 if prev != () and prev[-1] != \"<s>\" else i]\n",
    "     \n",
    "    def generate_sentences(self, num, min_len=12, max_len=24):\n",
    "        \"\"\"Generate num random sentences using the language model.\n",
    "        Sentences always begin with the SOS token and end with the EOS token.\n",
    "        While unigram model sentences will only exclude the UNK token, n>1 models\n",
    "        will also exclude all other words already in the sentence.\n",
    "\n",
    "        Args:\n",
    "            num (int): the number of sentences to generate.\n",
    "            min_len (int): minimum allowed sentence length.\n",
    "            max_len (int): maximum allowed sentence length.\n",
    "        Yields:\n",
    "            A tuple with the generated sentence and the combined probability\n",
    "            (in log-space) of all of its n-grams.\n",
    "\n",
    "        \"\"\"\n",
    "        for i in range(num):\n",
    "            sent, prob = [\"<s>\"] * max(1, self.n-1), 1\n",
    "            while sent[-1] != \"</s>\":\n",
    "                prev = () if self.n == 1 else tuple(sent[-(self.n-1):])\n",
    "                blacklist = sent + ([\"</s>\"] if len(sent) < min_len else [])\n",
    "                next_token, next_prob = self._best_candidate(prev, i, without=blacklist)\n",
    "                sent.append(next_token)\n",
    "                prob *= next_prob\n",
    "                \n",
    "                if len(sent) >= max_len:\n",
    "                    sent.append(\"</s>\")\n",
    "\n",
    "            yield ' '.join(sent), -1/math.log(prob)"
   ]
  },
  {
   "cell_type": "markdown",
   "metadata": {},
   "source": [
    "### Build LMs with Add-one smoothing testing on Jane Austen's books\n",
    "\n",
    "> 1. Tokenization for raw text of Jane Austen's books.\n",
    "> 2. Build and Train LMs using add-one smoothing."
   ]
  },
  {
   "cell_type": "code",
   "execution_count": 14,
   "metadata": {},
   "outputs": [
    {
     "name": "stdout",
     "output_type": "stream",
     "text": [
      "--------------------------------------------------\n",
      "Loading 1-gram model...\n",
      "Vocabulary size: 20018\n",
      "Generating sentences...\n",
      "<s> the to of and a I in her was not be </s> (0.02084)\n",
      "<s> to of and a I in her was not be she the that had as it for with his you he have is </s> (0.00967)\n",
      "<s> of and a I in her was not be she that to had as it for with his you he have is at </s> (0.00951)\n",
      "<s> and a I in her was not be she that had of as it for with his you he have is at but </s> (0.00935)\n",
      "<s> a I in her was not be she that had as and it for with his you he have is at but by </s> (0.00920)\n",
      "<s> I in her was not be she that had as it a for with his you he have is at but by very </s> (0.00905)\n",
      "<s> in her was not be she that had as it for I with his you he have is at but by very so </s> (0.00894)\n",
      "<s> her was not be she that had as it for with in his you he have is at but by very so could </s> (0.00885)\n",
      "<s> was not be she that had as it for with his her you he have is at but by very so could on </s> (0.00876)\n",
      "<s> not be she that had as it for with his you was he have is at but by very so could on all </s> (0.00867)\n",
      "Model perplexity: 721.726\n",
      "--------------------------------------------------\n",
      "Loading 2-gram model...\n",
      "Vocabulary size: 20015\n",
      "Generating sentences...\n",
      "<s> I am sure you are not be a very much as she had been so many years of the same time to her </s> (0.01352)\n",
      "<s> She was not be a very much as she had been so many years of the same time to her own room, and </s> (0.01292)\n",
      "<s> The first to be a very much as she had been so many years of the same time for her own room, and </s> (0.01226)\n",
      "<s> He was not be a very much as she had been so many years of the same time to her own room, and </s> (0.01280)\n",
      "<s> It was not be a very much as she had been so many years of the same time to her own room, and </s> (0.01295)\n",
      "<s> But I am sure you are not be a very much as she had been so many years of the same time to </s> (0.01341)\n",
      "<s> \"I am sure I have been a very much as she had not be the same time to her own room, and that </s> (0.01313)\n",
      "<s> You will be a very much as she had been so many years of the same time to her own room, and I </s> (0.01261)\n",
      "<s> They were to be a very much as she had been so many years of the same time for her own room, and </s> (0.01260)\n",
      "<s> And I am sure you are not be a very much as she had been so many years of the same time to </s> (0.01309)\n",
      "Model perplexity: 262.965\n",
      "--------------------------------------------------\n",
      "Loading 3-gram model...\n",
      "Vocabulary size: 20006\n",
      "Generating sentences...\n",
      "<s> <s> I am sure you will be a very good sort of thing that is the only one who had been so long </s> (0.01000)\n",
      "<s> <s> She was not to be in the same time that I am sure you will have a great deal of good sense </s> (0.01080)\n",
      "<s> <s> The first part of the two young men in Great </s> (0.01826)\n",
      "<s> <s> He was not to be in the same time that I am sure you will have a great deal of good sense </s> (0.01069)\n",
      "<s> <s> It was a very good sort of thing that is the only one who had been so long in equal force. </s> </s> (0.00895)\n",
      "<s> <s> But I have been a very good sort of thing that is the only one who had not yet so much as </s> (0.00902)\n",
      "<s> <s> \"I am sure I should be so very much to the same time that she had been a great deal of good </s> (0.01048)\n",
      "<s> <s> You will be a very good sort of thing that is the only one who had been so long in equal force. </s> (0.00888)\n",
      "<s> <s> They were all in the same time that I am sure you will be a very good sort of thing which had </s> (0.00964)\n",
      "<s> <s> And I am sure you will be a very good sort of thing that is the only one who had been so </s> (0.00964)\n",
      "Model perplexity: 601.409\n"
     ]
    }
   ],
   "source": [
    "laplace = .1 # the parameter of add-one smoothing.\n",
    "num_sent_gen = 10 # number of sentences is generated.\n",
    "\n",
    "for n in [1,2,3]:\n",
    "    print(\"-\" * 50)\n",
    "    tr_tokens, te_tokens, tr_sentences, te_sentences = raw_text_preprocess(raw_text_jane, n)\n",
    "    \n",
    "    print(\"Loading {}-gram model...\".format(n))\n",
    "    lm = LanguageModel(tr_tokens, n, laplace=laplace)\n",
    "    print(\"Vocabulary size: {}\".format(len(lm.vocab)))\n",
    "    \n",
    "    print(\"Generating sentences...\")\n",
    "    for sentence, prob in lm.generate_sentences(num_sent_gen):\n",
    "        print(\"{} ({:.5f})\".format(sentence, prob))\n",
    "    \n",
    "    perplexity = lm.perplexity(te_tokens)\n",
    "    print(\"Model perplexity: {:.3f}\".format(perplexity))\n"
   ]
  },
  {
   "cell_type": "markdown",
   "metadata": {},
   "source": [
    "### Load all Shakespeare's work\n",
    "\n",
    "> We downloaded Shakespeare's work at [Gutenberg](https://www.gutenberg.org/ebooks/100)."
   ]
  },
  {
   "cell_type": "code",
   "execution_count": 15,
   "metadata": {},
   "outputs": [
    {
     "name": "stdout",
     "output_type": "stream",
     "text": [
      "The Project Gutenberg eBook of The Complete Works of William Shakespeare      This ebook is for the use of anyone anywhere in the United States and most other parts of the world at no cost and with a rg™, including how to make donations to the Project Gutenberg Literary Archive Foundation, how to help produce our new eBooks, and how to subscribe to our email newsletter to hear about new eBooks.   \n"
     ]
    }
   ],
   "source": [
    "with open('datasets/dataset_shakespeare_all.txt', 'r') as file:\n",
    "    raw_text_shakespeare = file.read()\n",
    "raw_text_shakespeare = raw_text_shakespeare.replace(\"\\n\", \" \")\n",
    "print(raw_text_shakespeare[:200], raw_text_shakespeare[-200:])"
   ]
  },
  {
   "cell_type": "code",
   "execution_count": null,
   "metadata": {},
   "outputs": [],
   "source": [
    "laplace = .1 # the parameter of add-one smoothing.\n",
    "num_sent_gen = 10 # number of sentences is generated.\n",
    "\n",
    "for n in [1,2,3]:\n",
    "    print(\"-\" * 50)\n",
    "    tr_tokens, te_tokens, tr_sentences, te_sentences = raw_text_preprocess(raw_text_jane + raw_text_shakespeare, n)\n",
    "    \n",
    "    print(\"Loading {}-gram model...\".format(n))\n",
    "    lm = LanguageModel(tr_tokens, n, laplace=laplace)\n",
    "    print(\"Vocabulary size: {}\".format(len(lm.vocab)))\n",
    "    \n",
    "    print(\"Generating sentences...\")\n",
    "    for sentence, prob in lm.generate_sentences(num_sent_gen):\n",
    "        print(\"{} ({:.5f})\".format(sentence, prob))\n",
    "    \n",
    "    perplexity = lm.perplexity(te_tokens)\n",
    "    print(\"Model perplexity: {:.3f}\".format(perplexity))\n"
   ]
  }
 ],
 "metadata": {
  "kernelspec": {
   "display_name": "Python 3 (ipykernel)",
   "language": "python",
   "name": "python3"
  },
  "language_info": {
   "codemirror_mode": {
    "name": "ipython",
    "version": 3
   },
   "file_extension": ".py",
   "mimetype": "text/x-python",
   "name": "python",
   "nbconvert_exporter": "python",
   "pygments_lexer": "ipython3",
   "version": "3.10.13"
  }
 },
 "nbformat": 4,
 "nbformat_minor": 4
}
